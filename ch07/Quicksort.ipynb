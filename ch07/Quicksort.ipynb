{
 "cells": [
  {
   "cell_type": "code",
   "execution_count": 29,
   "metadata": {},
   "outputs": [],
   "source": [
    "def partition(A: list,p: int,r: int):\n",
    "    \"\"\"Given a list A and indices p and r, rearrange A so that\n",
    "    for some index r, A[p:q] is less than A[q], and A[q+1:r+1] \n",
    "    are greater than A[q]\"\"\"\n",
    "    x = A[r] # This will be the dividing value\n",
    "    i = p - 1\n",
    "    for j in range(p,r):\n",
    "        print(f\"Loop starts with j = {j} and i = {i}.\")\n",
    "        if A[j] <= x:\n",
    "            i += 1\n",
    "            A[i], A[j] = A[j], A[i]\n",
    "        print(f\"Loop ends with j = {j} and i = {i}, and A = {A}.\")\n",
    "        print()\n",
    "    A[i+1], A[r] = A[r], A[i+1]\n",
    "    print(f\"Finally, A = {A} with the breaking point at q = {i+1}.\")\n",
    "    print()\n",
    "    return i + 1\n",
    "    \n",
    "    "
   ]
  },
  {
   "cell_type": "code",
   "execution_count": 30,
   "metadata": {},
   "outputs": [
    {
     "name": "stdout",
     "output_type": "stream",
     "text": [
      "Loop starts with j = 0 and i = -1.\n",
      "Loop ends with j = 0 and i = 0, and A = [2, 8, 7, 1, 3, 5, 6, 4].\n",
      "\n",
      "Loop starts with j = 1 and i = 0.\n",
      "Loop ends with j = 1 and i = 0, and A = [2, 8, 7, 1, 3, 5, 6, 4].\n",
      "\n",
      "Loop starts with j = 2 and i = 0.\n",
      "Loop ends with j = 2 and i = 0, and A = [2, 8, 7, 1, 3, 5, 6, 4].\n",
      "\n",
      "Loop starts with j = 3 and i = 0.\n",
      "Loop ends with j = 3 and i = 1, and A = [2, 1, 7, 8, 3, 5, 6, 4].\n",
      "\n",
      "Loop starts with j = 4 and i = 1.\n",
      "Loop ends with j = 4 and i = 2, and A = [2, 1, 3, 8, 7, 5, 6, 4].\n",
      "\n",
      "Loop starts with j = 5 and i = 2.\n",
      "Loop ends with j = 5 and i = 2, and A = [2, 1, 3, 8, 7, 5, 6, 4].\n",
      "\n",
      "Loop starts with j = 6 and i = 2.\n",
      "Loop ends with j = 6 and i = 2, and A = [2, 1, 3, 8, 7, 5, 6, 4].\n",
      "\n",
      "Finally, A = [2, 1, 3, 4, 7, 5, 6, 8] with the breaking point at q = 3.\n",
      "\n"
     ]
    },
    {
     "data": {
      "text/plain": [
       "3"
      ]
     },
     "execution_count": 30,
     "metadata": {},
     "output_type": "execute_result"
    }
   ],
   "source": [
    "A = [2,8,7,1,3,5,6,4]\n",
    "p = 0\n",
    "r = len(A) - 1\n",
    "partition(A,p,r)"
   ]
  },
  {
   "cell_type": "code",
   "execution_count": 31,
   "metadata": {},
   "outputs": [],
   "source": [
    "def quicksort(A,p,r):\n",
    "    if p < r:\n",
    "        q = partition(A,p,r)\n",
    "        print(f\"Begin quicksort with partition at indices {p},{q-1}\")\n",
    "        quicksort(A,p,q-1)\n",
    "        print(f\"Begin quicksort with partition at indices {q+1},{r}\")\n",
    "        quicksort(A,q+1,r)"
   ]
  },
  {
   "cell_type": "code",
   "execution_count": 32,
   "metadata": {},
   "outputs": [
    {
     "name": "stdout",
     "output_type": "stream",
     "text": [
      "Loop starts with j = 0 and i = -1.\n",
      "Loop ends with j = 0 and i = 0, and A = [2, 8, 7, 1, 3, 5, 6, 4].\n",
      "\n",
      "Loop starts with j = 1 and i = 0.\n",
      "Loop ends with j = 1 and i = 0, and A = [2, 8, 7, 1, 3, 5, 6, 4].\n",
      "\n",
      "Loop starts with j = 2 and i = 0.\n",
      "Loop ends with j = 2 and i = 0, and A = [2, 8, 7, 1, 3, 5, 6, 4].\n",
      "\n",
      "Loop starts with j = 3 and i = 0.\n",
      "Loop ends with j = 3 and i = 1, and A = [2, 1, 7, 8, 3, 5, 6, 4].\n",
      "\n",
      "Loop starts with j = 4 and i = 1.\n",
      "Loop ends with j = 4 and i = 2, and A = [2, 1, 3, 8, 7, 5, 6, 4].\n",
      "\n",
      "Loop starts with j = 5 and i = 2.\n",
      "Loop ends with j = 5 and i = 2, and A = [2, 1, 3, 8, 7, 5, 6, 4].\n",
      "\n",
      "Loop starts with j = 6 and i = 2.\n",
      "Loop ends with j = 6 and i = 2, and A = [2, 1, 3, 8, 7, 5, 6, 4].\n",
      "\n",
      "Finally, A = [2, 1, 3, 4, 7, 5, 6, 8] with the breaking point at q = 3.\n",
      "\n",
      "Begin quicksort with partition at indices 0,2\n",
      "Loop starts with j = 0 and i = -1.\n",
      "Loop ends with j = 0 and i = 0, and A = [2, 1, 3, 4, 7, 5, 6, 8].\n",
      "\n",
      "Loop starts with j = 1 and i = 0.\n",
      "Loop ends with j = 1 and i = 1, and A = [2, 1, 3, 4, 7, 5, 6, 8].\n",
      "\n",
      "Finally, A = [2, 1, 3, 4, 7, 5, 6, 8] with the breaking point at q = 2.\n",
      "\n",
      "Begin quicksort with partition at indices 0,1\n",
      "Loop starts with j = 0 and i = -1.\n",
      "Loop ends with j = 0 and i = -1, and A = [2, 1, 3, 4, 7, 5, 6, 8].\n",
      "\n",
      "Finally, A = [1, 2, 3, 4, 7, 5, 6, 8] with the breaking point at q = 0.\n",
      "\n",
      "Begin quicksort with partition at indices 0,-1\n",
      "Begin quicksort with partition at indices 1,1\n",
      "Begin quicksort with partition at indices 3,2\n",
      "Begin quicksort with partition at indices 4,7\n",
      "Loop starts with j = 4 and i = 3.\n",
      "Loop ends with j = 4 and i = 4, and A = [1, 2, 3, 4, 7, 5, 6, 8].\n",
      "\n",
      "Loop starts with j = 5 and i = 4.\n",
      "Loop ends with j = 5 and i = 5, and A = [1, 2, 3, 4, 7, 5, 6, 8].\n",
      "\n",
      "Loop starts with j = 6 and i = 5.\n",
      "Loop ends with j = 6 and i = 6, and A = [1, 2, 3, 4, 7, 5, 6, 8].\n",
      "\n",
      "Finally, A = [1, 2, 3, 4, 7, 5, 6, 8] with the breaking point at q = 7.\n",
      "\n",
      "Begin quicksort with partition at indices 4,6\n",
      "Loop starts with j = 4 and i = 3.\n",
      "Loop ends with j = 4 and i = 3, and A = [1, 2, 3, 4, 7, 5, 6, 8].\n",
      "\n",
      "Loop starts with j = 5 and i = 3.\n",
      "Loop ends with j = 5 and i = 4, and A = [1, 2, 3, 4, 5, 7, 6, 8].\n",
      "\n",
      "Finally, A = [1, 2, 3, 4, 5, 6, 7, 8] with the breaking point at q = 5.\n",
      "\n",
      "Begin quicksort with partition at indices 4,4\n",
      "Begin quicksort with partition at indices 6,6\n",
      "Begin quicksort with partition at indices 8,7\n"
     ]
    }
   ],
   "source": [
    "A = [2,8,7,1,3,5,6,4]\n",
    "p = 0\n",
    "r = len(A) - 1\n",
    "quicksort(A,p,r)"
   ]
  },
  {
   "cell_type": "code",
   "execution_count": 21,
   "metadata": {},
   "outputs": [
    {
     "data": {
      "text/plain": [
       "[1, 2, 3, 4, 5, 6, 7, 8]"
      ]
     },
     "execution_count": 21,
     "metadata": {},
     "output_type": "execute_result"
    }
   ],
   "source": [
    "A"
   ]
  },
  {
   "cell_type": "code",
   "execution_count": 34,
   "metadata": {},
   "outputs": [
    {
     "name": "stdout",
     "output_type": "stream",
     "text": [
      "Loop starts with j = 0 and i = -1.\n",
      "Loop ends with j = 0 and i = 0, and A = [1, 1, 1, 1, 1, 1, 1, 1, 1, 1].\n",
      "\n",
      "Loop starts with j = 1 and i = 0.\n",
      "Loop ends with j = 1 and i = 1, and A = [1, 1, 1, 1, 1, 1, 1, 1, 1, 1].\n",
      "\n",
      "Loop starts with j = 2 and i = 1.\n",
      "Loop ends with j = 2 and i = 2, and A = [1, 1, 1, 1, 1, 1, 1, 1, 1, 1].\n",
      "\n",
      "Loop starts with j = 3 and i = 2.\n",
      "Loop ends with j = 3 and i = 3, and A = [1, 1, 1, 1, 1, 1, 1, 1, 1, 1].\n",
      "\n",
      "Loop starts with j = 4 and i = 3.\n",
      "Loop ends with j = 4 and i = 4, and A = [1, 1, 1, 1, 1, 1, 1, 1, 1, 1].\n",
      "\n",
      "Loop starts with j = 5 and i = 4.\n",
      "Loop ends with j = 5 and i = 5, and A = [1, 1, 1, 1, 1, 1, 1, 1, 1, 1].\n",
      "\n",
      "Loop starts with j = 6 and i = 5.\n",
      "Loop ends with j = 6 and i = 6, and A = [1, 1, 1, 1, 1, 1, 1, 1, 1, 1].\n",
      "\n",
      "Loop starts with j = 7 and i = 6.\n",
      "Loop ends with j = 7 and i = 7, and A = [1, 1, 1, 1, 1, 1, 1, 1, 1, 1].\n",
      "\n",
      "Loop starts with j = 8 and i = 7.\n",
      "Loop ends with j = 8 and i = 8, and A = [1, 1, 1, 1, 1, 1, 1, 1, 1, 1].\n",
      "\n",
      "Finally, A = [1, 1, 1, 1, 1, 1, 1, 1, 1, 1] with the breaking point at q = 9.\n",
      "\n"
     ]
    },
    {
     "data": {
      "text/plain": [
       "9"
      ]
     },
     "execution_count": 34,
     "metadata": {},
     "output_type": "execute_result"
    }
   ],
   "source": [
    "A = [1,1,1,1,1,1,1,1,1,1]\n",
    "p = 0\n",
    "r = len(A) - 1\n",
    "partition(A,p,r)"
   ]
  },
  {
   "cell_type": "code",
   "execution_count": null,
   "metadata": {},
   "outputs": [],
   "source": []
  }
 ],
 "metadata": {
  "kernelspec": {
   "display_name": "Python 3",
   "language": "python",
   "name": "python3"
  },
  "language_info": {
   "codemirror_mode": {
    "name": "ipython",
    "version": 3
   },
   "file_extension": ".py",
   "mimetype": "text/x-python",
   "name": "python",
   "nbconvert_exporter": "python",
   "pygments_lexer": "ipython3",
   "version": "3.7.1"
  }
 },
 "nbformat": 4,
 "nbformat_minor": 2
}
