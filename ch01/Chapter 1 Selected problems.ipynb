{
 "cells": [
  {
   "cell_type": "markdown",
   "metadata": {},
   "source": [
    "# Chapter 1: Selected exercises"
   ]
  },
  {
   "cell_type": "markdown",
   "metadata": {},
   "source": [
    "## 1.2 - 2\n",
    "\n",
    "Suppose we are comparing implementations of insertion sort and merge sort on the same machine. For inputs of size $n$, insertion sort runs in $8n^2$ steps, while merge sort runs in $64n \\lg n$ steps. For which values of $n$ does insertion sort beat merge sort?"
   ]
  },
  {
   "cell_type": "code",
   "execution_count": 1,
   "metadata": {},
   "outputs": [],
   "source": [
    "import numpy as np"
   ]
  },
  {
   "cell_type": "code",
   "execution_count": 2,
   "metadata": {},
   "outputs": [],
   "source": [
    "insertSort = lambda n: 8*n**2\n",
    "mergeSort = lambda n: 64*n*np.log2(n)"
   ]
  },
  {
   "cell_type": "code",
   "execution_count": 3,
   "metadata": {},
   "outputs": [
    {
     "name": "stdout",
     "output_type": "stream",
     "text": [
      "32 < 128.0\n"
     ]
    }
   ],
   "source": [
    "insertSortTime = insertSort(2)\n",
    "mergeSortTime = mergeSort(2)\n",
    "print(f\"{insertSortTime} < {mergeSortTime}\")"
   ]
  },
  {
   "cell_type": "code",
   "execution_count": 4,
   "metadata": {
    "scrolled": true
   },
   "outputs": [
    {
     "name": "stdout",
     "output_type": "stream",
     "text": [
      "44\n"
     ]
    }
   ],
   "source": [
    "n = 2\n",
    "insertSortTime = insertSort(n)\n",
    "mergeSortTime = mergeSort(n)\n",
    "while insertSortTime < mergeSortTime:\n",
    "    n +=1\n",
    "    insertSortTime = insertSort(n)\n",
    "    mergeSortTime = mergeSort(n)\n",
    "print(n)"
   ]
  },
  {
   "cell_type": "code",
   "execution_count": 5,
   "metadata": {},
   "outputs": [
    {
     "name": "stdout",
     "output_type": "stream",
     "text": [
      "15488 is greater than 15373.759438082629.\n"
     ]
    }
   ],
   "source": [
    "print(f\"{insertSort(44)} is greater than {mergeSort(44)}.\")\n"
   ]
  },
  {
   "cell_type": "markdown",
   "metadata": {},
   "source": [
    "## 1.2-3\n",
    "\n",
    "What is the smallest value of $n$ such that an algorithm whose running time is $100n^2$ runs faster than an algorithm whose running time is $2^n$ on the same machine?\n"
   ]
  },
  {
   "cell_type": "code",
   "execution_count": 6,
   "metadata": {},
   "outputs": [],
   "source": [
    "quad = lambda n: 100*n**2\n",
    "expo = lambda n: 2**n"
   ]
  },
  {
   "cell_type": "code",
   "execution_count": 7,
   "metadata": {},
   "outputs": [
    {
     "name": "stdout",
     "output_type": "stream",
     "text": [
      "15\n"
     ]
    }
   ],
   "source": [
    "n = 2\n",
    "quadTime = quad(n)\n",
    "expoTime = expo(n)\n",
    "while quadTime > expoTime:\n",
    "    n +=1\n",
    "    expoTime, quadTime = expo(n), quad(n)\n",
    "print(n)"
   ]
  },
  {
   "cell_type": "code",
   "execution_count": 8,
   "metadata": {},
   "outputs": [
    {
     "name": "stdout",
     "output_type": "stream",
     "text": [
      "22500 is less than 32768.\n"
     ]
    }
   ],
   "source": [
    "print(f\"{quad(15)} is less than {expo(15)}.\")\n"
   ]
  },
  {
   "cell_type": "markdown",
   "metadata": {},
   "source": [
    "## Chapter 1: Selected Problem\n",
    "\n",
    "For each function $f(n)$ and time $t$ in the following table, determine the largest size $n$\n",
    "of a problem that can be solved in time $t$, assuming that the algorithm to solve the problem takes $f(n)$ microseconds."
   ]
  },
  {
   "cell_type": "code",
   "execution_count": 9,
   "metadata": {},
   "outputs": [],
   "source": [
    "sec = 10**6\n",
    "minute = 60*sec\n",
    "hour = 60*minute\n",
    "day = 24*hour\n",
    "month = 30*day\n",
    "year = 365.25*day\n",
    "century = 1000*year"
   ]
  },
  {
   "cell_type": "code",
   "execution_count": 10,
   "metadata": {},
   "outputs": [],
   "source": [
    "timeList = [sec, \n",
    "            minute, \n",
    "            hour, \n",
    "            day, \n",
    "            month, \n",
    "            year, \n",
    "#            century,\n",
    "           ]"
   ]
  },
  {
   "cell_type": "code",
   "execution_count": 11,
   "metadata": {},
   "outputs": [],
   "source": [
    "import findN"
   ]
  },
  {
   "cell_type": "code",
   "execution_count": 12,
   "metadata": {},
   "outputs": [
    {
     "name": "stdout",
     "output_type": "stream",
     "text": [
      "\t 1 sec | 1 min | 1 hour | 1 day | 1 month | 1 year | 1 century | \n",
      "n\t: 1000000.0 | 10000000.0 | 1000000000.0 | 10000000000.0 | 1000000000000.0 | 10000000000000.0 | \n",
      "nlog\t: 10000.0 | 1000000.0 | 100000000.0 | 1000000000.0 | 10000000000.0 | 100000000000.0 | \n",
      "n**2\t: 1000 | 7745 | 10000.0 | 100000.0 | 1000000.0 | 1000000.0 | \n",
      "n**3\t: 100 | 391 | 1532 | 4420 | 10000.0 | 10000.0 | \n",
      "2**n\t: 19 | 25 | 31 | 36 | 41 | 44 | \n",
      "factorial\t: 9 | 11 | 12 | 13 | 15 | 16 | \n"
     ]
    }
   ],
   "source": [
    "print(\"\\t 1 sec | 1 min | 1 hour | 1 day | 1 month | 1 year | 1 century | \")\n",
    "for func in findN.funcDict:\n",
    "    print(func,end=\"\\t: \")\n",
    "    for time in timeList:\n",
    "        print(findN.findN(time, findN.funcDict[func]), end=\" | \")\n",
    "    print()"
   ]
  },
  {
   "cell_type": "code",
   "execution_count": 13,
   "metadata": {},
   "outputs": [
    {
     "data": {
      "text/plain": [
       "False"
      ]
     },
     "execution_count": 13,
     "metadata": {},
     "output_type": "execute_result"
    }
   ],
   "source": [
    "findN.factorial(18) > century"
   ]
  },
  {
   "cell_type": "code",
   "execution_count": 14,
   "metadata": {},
   "outputs": [
    {
     "data": {
      "text/plain": [
       "3.15576e+16"
      ]
     },
     "execution_count": 14,
     "metadata": {},
     "output_type": "execute_result"
    }
   ],
   "source": [
    "century"
   ]
  },
  {
   "cell_type": "code",
   "execution_count": 15,
   "metadata": {},
   "outputs": [
    {
     "data": {
      "text/plain": [
       "1.0"
      ]
     },
     "execution_count": 15,
     "metadata": {},
     "output_type": "execute_result"
    }
   ],
   "source": [
    "np.sqrt(1)"
   ]
  },
  {
   "cell_type": "code",
   "execution_count": 16,
   "metadata": {},
   "outputs": [
    {
     "data": {
      "text/plain": [
       "4.0"
      ]
     },
     "execution_count": 16,
     "metadata": {},
     "output_type": "execute_result"
    }
   ],
   "source": [
    "8/2"
   ]
  },
  {
   "cell_type": "code",
   "execution_count": null,
   "metadata": {},
   "outputs": [],
   "source": []
  }
 ],
 "metadata": {
  "kernelspec": {
   "display_name": "Python 3",
   "language": "python",
   "name": "python3"
  },
  "language_info": {
   "codemirror_mode": {
    "name": "ipython",
    "version": 3
   },
   "file_extension": ".py",
   "mimetype": "text/x-python",
   "name": "python",
   "nbconvert_exporter": "python",
   "pygments_lexer": "ipython3",
   "version": "3.7.0"
  }
 },
 "nbformat": 4,
 "nbformat_minor": 2
}
