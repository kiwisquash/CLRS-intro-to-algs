{
 "cells": [
  {
   "cell_type": "markdown",
   "metadata": {},
   "source": [
    "# Introduction"
   ]
  },
  {
   "cell_type": "markdown",
   "metadata": {},
   "source": [
    "In this notebook, I will try to implement the different data structures from Cormen in python."
   ]
  },
  {
   "cell_type": "markdown",
   "metadata": {},
   "source": [
    "## Stack"
   ]
  },
  {
   "cell_type": "markdown",
   "metadata": {},
   "source": [
    "- Use an array with a maximum capacity.\n",
    "- There should be a \"top\" attribute.\n",
    "- Include \"STACK-EMPTY\", \"PUSH\", \"POP\"."
   ]
  },
  {
   "cell_type": "code",
   "execution_count": 65,
   "metadata": {},
   "outputs": [],
   "source": [
    "class Stack:\n",
    "    \n",
    "    def __init__(self, max_cap):\n",
    "        self.top = -1\n",
    "        self.max_cap = max_cap\n",
    "        self.stack = [None for i in range(max_cap)]\n",
    "        \n",
    "    def is_empty(self):\n",
    "        return self.top == -1\n",
    "    \n",
    "    def is_full(self):\n",
    "        return self.top == self.max_cap - 1\n",
    "    \n",
    "    def push(self,x):\n",
    "        if self.is_full():\n",
    "            raise Exception(\"Overflow: No elements can be pushed into the stack.\")\n",
    "        else: \n",
    "            self.top +=1\n",
    "            self.stack[self.top] = x\n",
    "            \n",
    "    def pop(self):\n",
    "        if self.is_empty():\n",
    "            raise Exception(\"Underflow: The stack is empty.\")\n",
    "        else:\n",
    "            self.top -=1\n",
    "            return self.stack[self.top + 1]"
   ]
  },
  {
   "cell_type": "code",
   "execution_count": null,
   "metadata": {},
   "outputs": [],
   "source": []
  }
 ],
 "metadata": {
  "kernelspec": {
   "display_name": "Python 3",
   "language": "python",
   "name": "python3"
  },
  "language_info": {
   "codemirror_mode": {
    "name": "ipython",
    "version": 3
   },
   "file_extension": ".py",
   "mimetype": "text/x-python",
   "name": "python",
   "nbconvert_exporter": "python",
   "pygments_lexer": "ipython3",
   "version": "3.7.1"
  }
 },
 "nbformat": 4,
 "nbformat_minor": 2
}
