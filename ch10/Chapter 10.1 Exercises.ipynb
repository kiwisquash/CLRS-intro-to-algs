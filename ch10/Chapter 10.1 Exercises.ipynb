{
 "cells": [
  {
   "cell_type": "code",
   "execution_count": 2,
   "metadata": {},
   "outputs": [
    {
     "data": {
      "text/html": [
       "\n",
       "<style type='text/css'>\n",
       ".hll { background-color: #ffffcc }\n",
       ".c { color: #408080; font-style: italic } /* Comment */\n",
       ".err { border: 1px solid #FF0000 } /* Error */\n",
       ".k { color: #008000; font-weight: bold } /* Keyword */\n",
       ".o { color: #666666 } /* Operator */\n",
       ".ch { color: #408080; font-style: italic } /* Comment.Hashbang */\n",
       ".cm { color: #408080; font-style: italic } /* Comment.Multiline */\n",
       ".cp { color: #BC7A00 } /* Comment.Preproc */\n",
       ".cpf { color: #408080; font-style: italic } /* Comment.PreprocFile */\n",
       ".c1 { color: #408080; font-style: italic } /* Comment.Single */\n",
       ".cs { color: #408080; font-style: italic } /* Comment.Special */\n",
       ".gd { color: #A00000 } /* Generic.Deleted */\n",
       ".ge { font-style: italic } /* Generic.Emph */\n",
       ".gr { color: #FF0000 } /* Generic.Error */\n",
       ".gh { color: #000080; font-weight: bold } /* Generic.Heading */\n",
       ".gi { color: #00A000 } /* Generic.Inserted */\n",
       ".go { color: #888888 } /* Generic.Output */\n",
       ".gp { color: #000080; font-weight: bold } /* Generic.Prompt */\n",
       ".gs { font-weight: bold } /* Generic.Strong */\n",
       ".gu { color: #800080; font-weight: bold } /* Generic.Subheading */\n",
       ".gt { color: #0044DD } /* Generic.Traceback */\n",
       ".kc { color: #008000; font-weight: bold } /* Keyword.Constant */\n",
       ".kd { color: #008000; font-weight: bold } /* Keyword.Declaration */\n",
       ".kn { color: #008000; font-weight: bold } /* Keyword.Namespace */\n",
       ".kp { color: #008000 } /* Keyword.Pseudo */\n",
       ".kr { color: #008000; font-weight: bold } /* Keyword.Reserved */\n",
       ".kt { color: #B00040 } /* Keyword.Type */\n",
       ".m { color: #666666 } /* Literal.Number */\n",
       ".s { color: #BA2121 } /* Literal.String */\n",
       ".na { color: #7D9029 } /* Name.Attribute */\n",
       ".nb { color: #008000 } /* Name.Builtin */\n",
       ".nc { color: #0000FF; font-weight: bold } /* Name.Class */\n",
       ".no { color: #880000 } /* Name.Constant */\n",
       ".nd { color: #AA22FF } /* Name.Decorator */\n",
       ".ni { color: #999999; font-weight: bold } /* Name.Entity */\n",
       ".ne { color: #D2413A; font-weight: bold } /* Name.Exception */\n",
       ".nf { color: #0000FF } /* Name.Function */\n",
       ".nl { color: #A0A000 } /* Name.Label */\n",
       ".nn { color: #0000FF; font-weight: bold } /* Name.Namespace */\n",
       ".nt { color: #008000; font-weight: bold } /* Name.Tag */\n",
       ".nv { color: #19177C } /* Name.Variable */\n",
       ".ow { color: #AA22FF; font-weight: bold } /* Operator.Word */\n",
       ".w { color: #bbbbbb } /* Text.Whitespace */\n",
       ".mb { color: #666666 } /* Literal.Number.Bin */\n",
       ".mf { color: #666666 } /* Literal.Number.Float */\n",
       ".mh { color: #666666 } /* Literal.Number.Hex */\n",
       ".mi { color: #666666 } /* Literal.Number.Integer */\n",
       ".mo { color: #666666 } /* Literal.Number.Oct */\n",
       ".sa { color: #BA2121 } /* Literal.String.Affix */\n",
       ".sb { color: #BA2121 } /* Literal.String.Backtick */\n",
       ".sc { color: #BA2121 } /* Literal.String.Char */\n",
       ".dl { color: #BA2121 } /* Literal.String.Delimiter */\n",
       ".sd { color: #BA2121; font-style: italic } /* Literal.String.Doc */\n",
       ".s2 { color: #BA2121 } /* Literal.String.Double */\n",
       ".se { color: #BB6622; font-weight: bold } /* Literal.String.Escape */\n",
       ".sh { color: #BA2121 } /* Literal.String.Heredoc */\n",
       ".si { color: #BB6688; font-weight: bold } /* Literal.String.Interpol */\n",
       ".sx { color: #008000 } /* Literal.String.Other */\n",
       ".sr { color: #BB6688 } /* Literal.String.Regex */\n",
       ".s1 { color: #BA2121 } /* Literal.String.Single */\n",
       ".ss { color: #19177C } /* Literal.String.Symbol */\n",
       ".bp { color: #008000 } /* Name.Builtin.Pseudo */\n",
       ".fm { color: #0000FF } /* Name.Function.Magic */\n",
       ".vc { color: #19177C } /* Name.Variable.Class */\n",
       ".vg { color: #19177C } /* Name.Variable.Global */\n",
       ".vi { color: #19177C } /* Name.Variable.Instance */\n",
       ".vm { color: #19177C } /* Name.Variable.Magic */\n",
       ".il { color: #666666 } /* Literal.Number.Integer.Long */\n",
       "</style>\n"
      ],
      "text/plain": [
       "<IPython.core.display.HTML object>"
      ]
     },
     "metadata": {},
     "output_type": "display_data"
    }
   ],
   "source": [
    "%run notebook-import.py\n",
    "from python_implementations import Stack\n",
    "from python_implementations import Queue"
   ]
  },
  {
   "cell_type": "markdown",
   "metadata": {},
   "source": [
    "# Chapter 10.1: Stacks and queues"
   ]
  },
  {
   "cell_type": "markdown",
   "metadata": {},
   "source": [
    "## Problem 1"
   ]
  },
  {
   "cell_type": "markdown",
   "metadata": {},
   "source": [
    "Using Figure 10.1 as a model, illustrate the result of each operation in the sequence PUSH.S(4), PUSH.S(1), PUSH.S(3), POP.S(), PUSH.S(8), and POP.S() on an initially empty stack S stored in array S[1..6]."
   ]
  },
  {
   "cell_type": "code",
   "execution_count": 3,
   "metadata": {},
   "outputs": [
    {
     "name": "stdout",
     "output_type": "stream",
     "text": [
      "[4]\n",
      "[4, 1]\n",
      "[4, 1, 3]\n",
      "[4, 1]\n",
      "[4, 1, 8]\n",
      "[4, 1]\n"
     ]
    }
   ],
   "source": [
    "S = Stack(6)\n",
    "S.push(4)\n",
    "print(S)\n",
    "S.push(1)\n",
    "print(S)\n",
    "S.push(3)\n",
    "print(S)\n",
    "S.pop()\n",
    "print(S)\n",
    "S.push(8)\n",
    "print(S)\n",
    "S.pop()\n",
    "print(S)"
   ]
  },
  {
   "cell_type": "markdown",
   "metadata": {},
   "source": [
    "## Problem 2"
   ]
  },
  {
   "cell_type": "markdown",
   "metadata": {},
   "source": [
    "Explain how to implement two stacks in one array $A[1::n]$ in such a way that neither stack overflows unless the total number of elements in both stacks together is n. The PUSH and POP operations should run in O(1)."
   ]
  },
  {
   "cell_type": "markdown",
   "metadata": {},
   "source": [
    "### My answer"
   ]
  },
  {
   "cell_type": "markdown",
   "metadata": {},
   "source": [
    "The first stack can be implemented so that \"top\" starts from the first index.\n",
    "- push would increment \"top\" by 1.\n",
    "- pop would decrement \"top\" by 1.\n",
    "\n",
    "The second stack can be implemented so that \"top\" starts from the last index.\n",
    "- push would decrement \"top\" by 1.\n",
    "- pop would increment \"top\" by 1"
   ]
  },
  {
   "cell_type": "markdown",
   "metadata": {},
   "source": [
    "## Problem 3"
   ]
  },
  {
   "cell_type": "markdown",
   "metadata": {},
   "source": [
    "Using Figure 10.2 as a model, illustrate the result of each operation in the sequence ENQUEUE.Q(4), ENQUEUE.Q(1), ENQUEUE.Q(3), DEQUEUE.Q(), ENQUEUE.Q(8), and DEQUEUE.Q() on an initially empty queue Q stored in array $Q[1..6]$."
   ]
  },
  {
   "cell_type": "code",
   "execution_count": 4,
   "metadata": {},
   "outputs": [
    {
     "name": "stdout",
     "output_type": "stream",
     "text": [
      "Model: [None, None, None, None, None, None, None].\n",
      "Simpler representation: [].\n"
     ]
    }
   ],
   "source": [
    "Q = Queue(6)\n",
    "print(f\"Model: {Q.queue}.\")\n",
    "print(f\"Simpler representation: {Q}.\")"
   ]
  },
  {
   "cell_type": "code",
   "execution_count": 5,
   "metadata": {},
   "outputs": [
    {
     "name": "stdout",
     "output_type": "stream",
     "text": [
      "Model: [None, None, None, None, None, None, None].\n",
      "Simpler representation: [].\n",
      "Model: [4, None, None, None, None, None, None].\n",
      "Simpler representation: [4].\n",
      "Model: [4, 3, None, None, None, None, None].\n",
      "Simpler representation: [4, 3].\n",
      "Model: [4, 3, None, None, None, None, None].\n",
      "Simpler representation: [3].\n",
      "Model: [4, 3, 8, None, None, None, None].\n",
      "Simpler representation: [3, 8].\n",
      "Model: [4, 3, 8, None, None, None, None].\n",
      "Simpler representation: [8].\n"
     ]
    }
   ],
   "source": [
    "Q = Queue(6)\n",
    "print(f\"Model: {Q.queue}.\")\n",
    "print(f\"Simpler representation: {Q}.\")\n",
    "Q.enqueue(4)\n",
    "print(f\"Model: {Q.queue}.\")\n",
    "print(f\"Simpler representation: {Q}.\")\n",
    "Q.enqueue(3)\n",
    "print(f\"Model: {Q.queue}.\")\n",
    "print(f\"Simpler representation: {Q}.\")\n",
    "Q.dequeue()\n",
    "print(f\"Model: {Q.queue}.\")\n",
    "print(f\"Simpler representation: {Q}.\")\n",
    "Q.enqueue(8)\n",
    "print(f\"Model: {Q.queue}.\")\n",
    "print(f\"Simpler representation: {Q}.\")\n",
    "Q.dequeue()\n",
    "print(f\"Model: {Q.queue}.\")\n",
    "print(f\"Simpler representation: {Q}.\")"
   ]
  },
  {
   "cell_type": "markdown",
   "metadata": {},
   "source": [
    "## Problem 4\n",
    "Rewrite ENQUEUE and DEQUEUE to detect underflow and overflow of a queue."
   ]
  },
  {
   "cell_type": "markdown",
   "metadata": {},
   "source": [
    "### My Answer\n",
    "\n",
    "This was done in my python implementation of enque and dequeue, but I can do this in pseudo-code as well."
   ]
  },
  {
   "cell_type": "markdown",
   "metadata": {},
   "source": [
    "```\n",
    "// n is the size of the array.\n",
    "// array index starts from 1 per Cormen's convention\n",
    "\n",
    "    ENQUEUE(Q,x):\n",
    "    if (Q.head - Q.tail) % n == 1:\n",
    "        raise Exception(\"Overflow\")\n",
    "    else:\n",
    "        Q[Q.tail] = x\n",
    "        if Q.tail == n:\n",
    "            Q.tail = 1\n",
    "        else:\n",
    "            Q.tail++\n",
    "```"
   ]
  },
  {
   "cell_type": "markdown",
   "metadata": {},
   "source": [
    "```\n",
    "// n is the size of the array.\n",
    "// array index starts from 1 per Cormen's convention\n",
    "\n",
    "    DEQUEUE(Q):\n",
    "    if Q.head == Q.tail:\n",
    "        raise Exception(\"Underflow\")\n",
    "    else:\n",
    "        x = Q[Q.head]\n",
    "        if Q.head == n:\n",
    "            Q.head = 1\n",
    "        else:\n",
    "            Q.head++\n",
    "        return x\n",
    "```"
   ]
  },
  {
   "cell_type": "markdown",
   "metadata": {},
   "source": [
    "## Problem 5"
   ]
  },
  {
   "cell_type": "markdown",
   "metadata": {},
   "source": [
    "Whereas a stack allows insertion and deletion of elements at only one end, and a queue allows insertion at one end and deletion at the other end, a deque (double- ended queue) allows insertion and deletion at both ends. Write four $O(1)$-time procedures to insert elements into and delete elements from both ends of a deque implemented by an array.\n"
   ]
  },
  {
   "cell_type": "markdown",
   "metadata": {},
   "source": [
    "### My solution"
   ]
  },
  {
   "cell_type": "markdown",
   "metadata": {},
   "source": [
    "In python_implementations, I created a subclass of Queue with 2 additional methods, which I named \"front_enqueue\" and \"back_enqueu\""
   ]
  },
  {
   "cell_type": "markdown",
   "metadata": {},
   "source": [
    "## Problem 6"
   ]
  },
  {
   "cell_type": "markdown",
   "metadata": {},
   "source": [
    "Show how to implement a queue using two stacks. Analyze the running time of the queue operations."
   ]
  },
  {
   "cell_type": "markdown",
   "metadata": {},
   "source": [
    "### My solution"
   ]
  },
  {
   "cell_type": "markdown",
   "metadata": {},
   "source": [
    "- There will be a \"enque\" stack and a \"denque\" stack.\n",
    "- A variable that keeps track of the \"state\" of the queue.\n",
    "- The state of the queue depends on the last operation that was performed on the queue:\n",
    "    - 0 if the last operation was enque\n",
    "    - 1 if the last operation was deque\n",
    "    - The state variable will be initialized with 0\n",
    "- When an element x is enqued:\n",
    "    - if state == 0, then x is pushed into the enque_stack.\n",
    "    - if state == 1, then each element of the denque_stack is popped then pushed into the enque_stack, then x is pushed into the enque_stack. Then, state gets changed to 0.\n",
    "- When dequeue is used:\n",
    "    - if state == 1, then x is popped from the denque_stack.\n",
    "    - if state == 0, then each element of the enque_stack is popped then pushed into the denque_stack, then denque_stack is popped. Then, state gets changed to 1."
   ]
  },
  {
   "cell_type": "markdown",
   "metadata": {},
   "source": [
    "Complexity:\n",
    "- O(1) the same operation is repeated (best case)\n",
    "- O(n) if the operations alternate (worst case)\n",
    "\n",
    "Note: \n",
    "- It is also possible to set it up so that one operation is always O(1), and the other one is O(2n):\n",
    "    - copy into the extra stack, perform either push or poop, then copy back to the other"
   ]
  },
  {
   "cell_type": "code",
   "execution_count": 120,
   "metadata": {},
   "outputs": [],
   "source": [
    "class Queue_stack:\n",
    "    \n",
    "    def __init__(self, max_cap):\n",
    "        self.head = 0\n",
    "        self.tail = 0\n",
    "        self.state = 0\n",
    "        self.max_cap = max_cap\n",
    "        self.enque_stack = Stack(self.max_cap)\n",
    "        self.denque_stack = Stack(self.max_cap)\n",
    "    \n",
    "    def is_full(self):\n",
    "        return self.head == (self.tail + 1)%(self.max_cap + 1)\n",
    "\n",
    "    def is_empty(self):\n",
    "        return self.tail == self.head \n",
    "    \n",
    "    def overflow(self):\n",
    "        raise Exception(\"Overflow: The queue is full. No elements can be enqueued into the queue.\")\n",
    "\n",
    "    def underflow(self):\n",
    "        raise Exception(\"Underflow: The queue is empty. No elements can be dequeued from the queue.\")\n",
    "    \n",
    "    def move_data(self, source, target):\n",
    "        while not source.is_empty():\n",
    "            target.push(source.pop())\n",
    "    \n",
    "    def enqueue(self,x):\n",
    "        if self.is_full():\n",
    "            self.overflow()\n",
    "        else:\n",
    "            self.tail = (self.tail + 1)%(self.max_cap + 1)\n",
    "            if self.state == 1:\n",
    "                self.move_data(self.denque_stack, self.enque_stack)\n",
    "                self.state = 0\n",
    "            self.enque_stack.push(x)\n",
    "    \n",
    "    def denqueue(self):\n",
    "        if self.is_empty():\n",
    "            self.underflow()\n",
    "        else:\n",
    "            self.head = (self.head + 1)%(self.max_cap + 1)\n",
    "            if self.state == 0:\n",
    "                self.move_data(self.enque_stack, self.denque_stack)\n",
    "                self.state = 1\n",
    "            return self.denque_stack.pop()\n",
    "    \n",
    "    def __str__(self):\n",
    "        if self.state == 0:\n",
    "            return str(self.enque_stack)\n",
    "        else:\n",
    "            return \"[\"+\",\".join(str(self.denque_stack)[1:-1].split(\",\")[::-1])+\"]\"\n",
    "            "
   ]
  },
  {
   "cell_type": "code",
   "execution_count": 121,
   "metadata": {},
   "outputs": [],
   "source": [
    "test = Queue_stack(10)"
   ]
  },
  {
   "cell_type": "code",
   "execution_count": 122,
   "metadata": {},
   "outputs": [
    {
     "name": "stdout",
     "output_type": "stream",
     "text": [
      "[]\n",
      "[]\n"
     ]
    }
   ],
   "source": [
    "test = Queue_stack(10)\n",
    "print(test.enque_stack)\n",
    "print(test.denque_stack)"
   ]
  },
  {
   "cell_type": "code",
   "execution_count": 123,
   "metadata": {},
   "outputs": [
    {
     "name": "stdout",
     "output_type": "stream",
     "text": [
      "[0]\n",
      "[0, 1]\n",
      "[0, 1, 2]\n",
      "[0, 1, 2, 3]\n",
      "[0, 1, 2, 3, 4]\n",
      "[ 1, 2, 3,4]\n",
      "[ 2, 3,4]\n",
      "[ 3,4]\n",
      "[4]\n",
      "[]\n"
     ]
    }
   ],
   "source": [
    "for i in range(10):\n",
    "    if i < 5:\n",
    "        test.enqueue(i)\n",
    "    else:\n",
    "        test.denqueue()\n",
    "    print(test)\n",
    "\n",
    "        "
   ]
  },
  {
   "cell_type": "markdown",
   "metadata": {},
   "source": [
    "## Problem 7"
   ]
  },
  {
   "cell_type": "markdown",
   "metadata": {},
   "source": [
    "Show how to implement a stack using two queues. Analyze the running time of the stack operations.\n"
   ]
  },
  {
   "cell_type": "markdown",
   "metadata": {},
   "source": [
    "- Maintain two queues so that\n",
    "    - One queue consists of the single element, the \"top\"\n",
    "    - The other queue stores the rest of the elements.\n",
    "- What does \"push(x)\" do:\n",
    "    - enqueue \"x\" to the queue containing \"top\"\n",
    "    - deqnqueue the the queue containing top. Call this element y.\n",
    "    - enqueue \"y\" to the queue that does not contain \"top\".\n",
    "    - O(1)\n",
    "- What does pop() do:\n",
    "    - move all but one element from the non-\"top\" queue to the \"top\" queue using denqueue and enqueue, but leave one element\n",
    "    - denqueue the \"top\" queue\n",
    "        - This is the return element\n",
    "    - the queue that has the single element becomes the new \"top\" queue\n",
    "    - O(n)\n",
    "    "
   ]
  },
  {
   "cell_type": "code",
   "execution_count": null,
   "metadata": {},
   "outputs": [],
   "source": []
  }
 ],
 "metadata": {
  "kernelspec": {
   "display_name": "Python 3",
   "language": "python",
   "name": "python3"
  },
  "language_info": {
   "codemirror_mode": {
    "name": "ipython",
    "version": 3
   },
   "file_extension": ".py",
   "mimetype": "text/x-python",
   "name": "python",
   "nbconvert_exporter": "python",
   "pygments_lexer": "ipython3",
   "version": "3.7.1"
  }
 },
 "nbformat": 4,
 "nbformat_minor": 2
}
