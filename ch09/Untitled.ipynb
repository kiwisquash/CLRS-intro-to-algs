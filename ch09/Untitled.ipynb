{
 "cells": [
  {
   "cell_type": "code",
   "execution_count": 1,
   "metadata": {},
   "outputs": [],
   "source": [
    "import random"
   ]
  },
  {
   "cell_type": "code",
   "execution_count": 51,
   "metadata": {},
   "outputs": [
    {
     "name": "stdout",
     "output_type": "stream",
     "text": [
      "1101\n",
      "1000\n",
      "  10\n",
      "  11\n",
      " 100\n",
      "1010\n",
      "1011\n",
      " 100\n",
      "  11\n",
      "  11\n",
      "1011\n",
      "1101\n",
      "   1\n",
      "  11\n",
      "1100\n",
      "   1\n"
     ]
    }
   ],
   "source": [
    "b = 4\n",
    "n = 16\n",
    "for i in range(n):\n",
    "    x = random.getrandbits(b)\n",
    "    print(\"{0:4b}\".format(x))"
   ]
  },
  {
   "cell_type": "code",
   "execution_count": 52,
   "metadata": {},
   "outputs": [],
   "source": [
    "import numpy as np"
   ]
  },
  {
   "cell_type": "code",
   "execution_count": 54,
   "metadata": {},
   "outputs": [
    {
     "data": {
      "text/plain": [
       "4.0"
      ]
     },
     "execution_count": 54,
     "metadata": {},
     "output_type": "execute_result"
    }
   ],
   "source": [
    "np.log2(n)"
   ]
  },
  {
   "cell_type": "code",
   "execution_count": 64,
   "metadata": {},
   "outputs": [],
   "source": [
    "def sort(array, maxValue=None):\n",
    "  if maxValue is None:\n",
    "    maxValue = 0\n",
    "    for i in range(0, len(array)):\n",
    "      if array[i] > maxValue:\n",
    "        maxValue = array[i]\n",
    "  buckets = [0] * (maxValue + 1)\n",
    "  sortedIndex = 0\n",
    "  for i in range(0, len(array)):\n",
    "    buckets[array[i]] += 1\n",
    "  print(buckets)\n",
    "  for i in range(0, len(buckets)):\n",
    "    while (buckets[i] > 0):\n",
    "      array[sortedIndex] = i\n",
    "      sortedIndex += 1\n",
    "      buckets[i] -= 1\n",
    "  return array"
   ]
  },
  {
   "cell_type": "code",
   "execution_count": 67,
   "metadata": {},
   "outputs": [
    {
     "data": {
      "text/plain": [
       "[(1, 1), (2, 0), (2, 1), (2, 2), (3, 0), (5, 0), (6, 0)]"
      ]
     },
     "execution_count": 67,
     "metadata": {},
     "output_type": "execute_result"
    }
   ],
   "source": [
    "sorted([(3,0),(2,0),(5,0),(6,0),(2,1),(2,2),(1,1)],key=lambda x: x[0])"
   ]
  },
  {
   "cell_type": "code",
   "execution_count": 22,
   "metadata": {},
   "outputs": [
    {
     "name": "stdout",
     "output_type": "stream",
     "text": [
      "Object `cmp` not found.\n"
     ]
    }
   ],
   "source": []
  },
  {
   "cell_type": "code",
   "execution_count": null,
   "metadata": {},
   "outputs": [],
   "source": []
  }
 ],
 "metadata": {
  "kernelspec": {
   "display_name": "Python 3",
   "language": "python",
   "name": "python3"
  },
  "language_info": {
   "codemirror_mode": {
    "name": "ipython",
    "version": 3
   },
   "file_extension": ".py",
   "mimetype": "text/x-python",
   "name": "python",
   "nbconvert_exporter": "python",
   "pygments_lexer": "ipython3",
   "version": "3.7.1"
  }
 },
 "nbformat": 4,
 "nbformat_minor": 2
}
