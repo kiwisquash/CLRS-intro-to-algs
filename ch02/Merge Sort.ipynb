{
 "cells": [
  {
   "cell_type": "code",
   "execution_count": 1,
   "metadata": {},
   "outputs": [],
   "source": [
    "A = [1,3,6,7,2,4,5]"
   ]
  },
  {
   "cell_type": "code",
   "execution_count": 2,
   "metadata": {},
   "outputs": [],
   "source": [
    "def merge(A:list,p:int,q:int,r:int):\n",
    "    \"\"\"Given an array A so that A[p:q] and A[q:r] sorted,\n",
    "    mutate A so that A[p:r] is sorted.\n",
    "    \"\"\"\n",
    "    L = A[p:q]\n",
    "    R = A[q:r]\n",
    "    i = j = 0\n",
    "    k = p\n",
    "    assert len(L) == q - p\n",
    "    assert len(R) == r - q\n",
    "    while (i < q-p) and (j < r - q): # while i < len(L) and j < len(R)\n",
    "        if L[i]<R[j]:\n",
    "            A[k]=L[i]\n",
    "            i+=1\n",
    "        else:\n",
    "            A[k]=R[j]\n",
    "            j+=1\n",
    "        k+=1\n",
    "    if (i<q-p):\n",
    "        A[k:r]=L[i:]\n",
    "    else:\n",
    "        A[k:r]=R[j:]\n",
    "    print(A, p, q, r, \"Something happened\")"
   ]
  },
  {
   "cell_type": "code",
   "execution_count": 3,
   "metadata": {},
   "outputs": [
    {
     "name": "stdout",
     "output_type": "stream",
     "text": [
      "[1, 2, 3, 4, 5, 6, 7] 0 4 7 Something happened\n"
     ]
    }
   ],
   "source": [
    "merge(A,0,4,7)"
   ]
  },
  {
   "cell_type": "code",
   "execution_count": 4,
   "metadata": {},
   "outputs": [
    {
     "data": {
      "text/plain": [
       "[0, 1, 2, 3]"
      ]
     },
     "execution_count": 4,
     "metadata": {},
     "output_type": "execute_result"
    }
   ],
   "source": [
    "list(range(4))"
   ]
  },
  {
   "cell_type": "code",
   "execution_count": 18,
   "metadata": {},
   "outputs": [],
   "source": [
    "def ms(A,p,r):\n",
    "    if p < r - 1:\n",
    "        q = (p+r+1)//2\n",
    "        print(A,p,q,r)\n",
    "        ms(A,p,q)\n",
    "        ms(A,q,r)\n",
    "        merge(A,p,q,r)\n",
    "    else: \n",
    "        print(A, f\"Nothing happened because the algorithm is looking at a subarray of length {r - p} at index {p}.\")\n",
    "   "
   ]
  },
  {
   "cell_type": "code",
   "execution_count": null,
   "metadata": {},
   "outputs": [],
   "source": []
  }
 ],
 "metadata": {
  "kernelspec": {
   "display_name": "Python 3",
   "language": "python",
   "name": "python3"
  },
  "language_info": {
   "codemirror_mode": {
    "name": "ipython",
    "version": 3
   },
   "file_extension": ".py",
   "mimetype": "text/x-python",
   "name": "python",
   "nbconvert_exporter": "python",
   "pygments_lexer": "ipython3",
   "version": "3.7.0"
  }
 },
 "nbformat": 4,
 "nbformat_minor": 2
}
